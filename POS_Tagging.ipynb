{
  "nbformat": 4,
  "nbformat_minor": 0,
  "metadata": {
    "colab": {
      "provenance": [],
      "authorship_tag": "ABX9TyMEaKFRzuEBusKTKJoVw+24",
      "include_colab_link": true
    },
    "kernelspec": {
      "name": "python3",
      "display_name": "Python 3"
    },
    "language_info": {
      "name": "python"
    }
  },
  "cells": [
    {
      "cell_type": "markdown",
      "metadata": {
        "id": "view-in-github",
        "colab_type": "text"
      },
      "source": [
        "<a href=\"https://colab.research.google.com/github/castroborges/castroborges.github.io/blob/main/POS_Tagging.ipynb\" target=\"_parent\"><img src=\"https://colab.research.google.com/assets/colab-badge.svg\" alt=\"Open In Colab\"/></a>"
      ]
    },
    {
      "cell_type": "markdown",
      "source": [
        "# Marcação de Classe de Palavra\n",
        "\n",
        "Conhecida em inglês como *Part-of-speech tagging* ou *POS Tagging*, visa classificar automaticamente cada palavra de um texto de acordo com sua classe gramatical (substantivo, verbo, adjetivo etc.)\n",
        "\n",
        "## Corpora\n",
        "\n",
        "Corpora com anotação de classe de palavra foram complilados para diferentes idiomas.\n",
        "\n",
        "Neste colab, exploraremos dois corpora de marcação de classe de palavra em Português: Mac-Morpho e uma parte em Português da Universal Dependencies *(UD_Portuguese-GSD)*\n"
      ],
      "metadata": {
        "id": "MDt_Cbsr4NnG"
      }
    },
    {
      "cell_type": "markdown",
      "source": [
        "## Mac-Morpho\n",
        "\n",
        "Baixando o corpus (Fonte [NILC](http://www.nilc.icmc.usp.br/macmorpho/))."
      ],
      "metadata": {
        "id": "iYW5NU0bBCn3"
      }
    },
    {
      "cell_type": "code",
      "execution_count": 1,
      "metadata": {
        "colab": {
          "base_uri": "https://localhost:8080/"
        },
        "id": "Q8D19Bxu3e-I",
        "outputId": "705cdb56-906d-4422-f4a6-2a574321e84d"
      },
      "outputs": [
        {
          "output_type": "stream",
          "name": "stdout",
          "text": [
            "--2024-11-20 00:54:12--  http://www.nilc.icmc.usp.br/macmorpho/macmorpho-v3.tgz\n",
            "Resolving www.nilc.icmc.usp.br (www.nilc.icmc.usp.br)... 143.107.183.225\n",
            "Connecting to www.nilc.icmc.usp.br (www.nilc.icmc.usp.br)|143.107.183.225|:80... connected.\n",
            "HTTP request sent, awaiting response... 200 OK\n",
            "Length: 2463485 (2.3M) [application/x-gzip]\n",
            "Saving to: ‘macmorpho-v3.tgz’\n",
            "\n",
            "macmorpho-v3.tgz    100%[===================>]   2.35M  1.94MB/s    in 1.2s    \n",
            "\n",
            "2024-11-20 00:54:14 (1.94 MB/s) - ‘macmorpho-v3.tgz’ saved [2463485/2463485]\n",
            "\n",
            "macmorpho-dev.txt\n",
            "macmorpho-test.txt\n",
            "macmorpho-train.txt\n"
          ]
        }
      ],
      "source": [
        "!wget http://www.nilc.icmc.usp.br/macmorpho/macmorpho-v3.tgz\n",
        "!tar zxvf macmorpho-v3.tgz"
      ]
    },
    {
      "cell_type": "markdown",
      "source": [
        "Carregando os conjuntos de treino, desenvolvimento e teste do corpus\n"
      ],
      "metadata": {
        "id": "v8dBcLYEDxJM"
      }
    },
    {
      "cell_type": "code",
      "source": [
        "with open('macmorpho-train.txt') as f:\n",
        "  doc = f.read().split('\\n')\n",
        "\n",
        "traindata = []\n",
        "for linha in doc:\n",
        "  sentenca = [tuple(par.split('_')) for par in linha.split()]\n",
        "  traindata.append(sentenca)\n",
        "\n",
        "with open('macmorpho-dev.txt') as f:\n",
        "  doc = f.read().split('\\n')\n",
        "\n",
        "devdata = []\n",
        "for linha in doc:\n",
        "  sentenca = [tuple(par.split('_')) for par in linha.split()]\n",
        "  devdata.append(sentenca)\n",
        "\n",
        "with open('macmorpho-test.txt') as f:\n",
        "  doc = f.read().split('\\n')\n",
        "\n",
        "testdata = []\n",
        "for linha in doc:\n",
        "  sentenca = [tuple(par.split('_')) for par in linha.split()]\n",
        "  testdata.append(sentenca)\n",
        "\n",
        "corpus = traindata + devdata + testdata"
      ],
      "metadata": {
        "id": "RTZ-5pUKEJJZ"
      },
      "execution_count": 10,
      "outputs": []
    },
    {
      "cell_type": "markdown",
      "source": [
        "Sentença anotada com as classes de palavras no Mac-Morpho"
      ],
      "metadata": {
        "id": "H2AdKn4dHe_t"
      }
    },
    {
      "cell_type": "code",
      "source": [
        "corpus[100]"
      ],
      "metadata": {
        "colab": {
          "base_uri": "https://localhost:8080/"
        },
        "id": "j4b6RtORHk0-",
        "outputId": "1b2b2ed6-de4b-4627-a01e-9aec31bffd5d"
      },
      "execution_count": 11,
      "outputs": [
        {
          "output_type": "execute_result",
          "data": {
            "text/plain": [
              "[('A', 'ART'),\n",
              " ('braquiária', 'N'),\n",
              " ('decunbens', 'ADJ'),\n",
              " ('só', 'PDEN'),\n",
              " ('fracassou', 'V'),\n",
              " ('na', 'PREP+ART'),\n",
              " ('Amazônia', 'NPROP'),\n",
              " ('e', 'KC'),\n",
              " ('é', 'V'),\n",
              " ('claro', 'ADJ'),\n",
              " ('não', 'ADV'),\n",
              " ('podia', 'V'),\n",
              " ('se', 'PROPESS'),\n",
              " ('dar', 'V'),\n",
              " ('bem', 'ADV'),\n",
              " ('no', 'PREP+ART'),\n",
              " ('sul', 'NPROP'),\n",
              " ('.', 'PU')]"
            ]
          },
          "metadata": {},
          "execution_count": 11
        }
      ]
    },
    {
      "cell_type": "markdown",
      "source": [
        "Tamanho do corpus"
      ],
      "metadata": {
        "id": "XVqcpAExIBOq"
      }
    },
    {
      "cell_type": "code",
      "source": [
        "len(corpus)"
      ],
      "metadata": {
        "colab": {
          "base_uri": "https://localhost:8080/"
        },
        "id": "POQCCPF5Hw3n",
        "outputId": "87d808e0-3480-429d-fe05-635244a86225"
      },
      "execution_count": 12,
      "outputs": [
        {
          "output_type": "execute_result",
          "data": {
            "text/plain": [
              "49934"
            ]
          },
          "metadata": {},
          "execution_count": 12
        }
      ]
    },
    {
      "cell_type": "markdown",
      "source": [
        "Contando cada marcador no corpus"
      ],
      "metadata": {
        "id": "e51zyoWlIHC7"
      }
    },
    {
      "cell_type": "code",
      "source": [
        "from collections import Counter\n",
        "\n",
        "tagset = []\n",
        "for snt in corpus:\n",
        "  for palavra in snt:\n",
        "    tagset.append(palavra[1])\n",
        "\n",
        "Counter(tagset)"
      ],
      "metadata": {
        "colab": {
          "base_uri": "https://localhost:8080/"
        },
        "id": "AdejBUGmILxz",
        "outputId": "689325fe-5ef5-4491-c648-eb3e620efe37"
      },
      "execution_count": 13,
      "outputs": [
        {
          "output_type": "execute_result",
          "data": {
            "text/plain": [
              "Counter({'N': 200977,\n",
              "         'V': 99621,\n",
              "         'PREP': 91314,\n",
              "         'CUR': 2473,\n",
              "         'NUM': 16181,\n",
              "         'PREP+ART': 58335,\n",
              "         'NPROP': 91765,\n",
              "         'PU': 138865,\n",
              "         'PROADJ': 15415,\n",
              "         'PRO-KS': 10919,\n",
              "         'ADJ': 43269,\n",
              "         'KC': 23366,\n",
              "         'ART': 68618,\n",
              "         'KS': 12099,\n",
              "         'PCP': 19548,\n",
              "         'ADV': 24814,\n",
              "         'PROPESS': 11538,\n",
              "         'PREP+PROADJ': 1715,\n",
              "         'PDEN': 5666,\n",
              "         'PROSUB': 6381,\n",
              "         'PREP+PROPESS': 533,\n",
              "         'ADV-KS': 1041,\n",
              "         'PREP+PRO-KS': 219,\n",
              "         'PREP+PROSUB': 710,\n",
              "         'IN': 284,\n",
              "         'PREP+ADV': 85})"
            ]
          },
          "metadata": {},
          "execution_count": 13
        }
      ]
    },
    {
      "cell_type": "markdown",
      "source": [
        "## UD_Portuguese-GSD\n",
        "\n",
        "Baixando o corpus"
      ],
      "metadata": {
        "id": "lINHBURwIy2U"
      }
    },
    {
      "cell_type": "code",
      "source": [
        "!git clone https://github.com/UniversalDependencies/UD_Portuguese-GSD.git"
      ],
      "metadata": {
        "colab": {
          "base_uri": "https://localhost:8080/"
        },
        "id": "KsFxN_oLJAtB",
        "outputId": "0ddd31db-642d-40c3-df02-7648fe5a95cf"
      },
      "execution_count": 14,
      "outputs": [
        {
          "output_type": "stream",
          "name": "stdout",
          "text": [
            "Cloning into 'UD_Portuguese-GSD'...\n",
            "remote: Enumerating objects: 12585, done.\u001b[K\n",
            "remote: Counting objects: 100% (4316/4316), done.\u001b[K\n",
            "remote: Compressing objects: 100% (2459/2459), done.\u001b[K\n",
            "remote: Total 12585 (delta 2226), reused 2854 (delta 1857), pack-reused 8269 (from 1)\u001b[K\n",
            "Receiving objects: 100% (12585/12585), 34.91 MiB | 18.26 MiB/s, done.\n",
            "Resolving deltas: 100% (8662/8662), done.\n"
          ]
        }
      ]
    },
    {
      "cell_type": "markdown",
      "source": [
        "Carregando os conjuntos de treino, desenvolvimento e teste do corpus"
      ],
      "metadata": {
        "id": "ELK62XTpJN9i"
      }
    },
    {
      "cell_type": "code",
      "source": [
        "import os\n",
        "\n",
        "def parse(fname):\n",
        "  with open(fname) as f:\n",
        "    doc = f.read()\n",
        "  doc = doc.split('\\n\\n')\n",
        "\n",
        "  snts = []\n",
        "  for j, inst in enumerate(doc[:-1]):\n",
        "    snt = []\n",
        "    rows = inst.split('\\n')\n",
        "    for i, elem in enumerate(rows):\n",
        "      if elem[0] != '#':\n",
        "        r = elem.split('\\t')\n",
        "        palavra, tag = r[1], r[3]\n",
        "        if tag != '_':\n",
        "          snt.append((palavra, tag))\n",
        "      snts.append(snt)\n",
        "  return snts\n",
        "\n",
        "path = 'UD_Portuguese-GSD/'\n",
        "\n",
        "traindata = parse(os.path.join(path, 'pt_gsd-ud-train.conllu'))\n",
        "devdata = parse(os.path.join(path, 'pt_gsd-ud-dev.conllu'))\n",
        "testdata = parse(os.path.join(path, 'pt_gsd-ud-test.conllu'))\n",
        "corpus = traindata + devdata + testdata\n",
        "\n",
        "corpus = traindata + devdata + testdata"
      ],
      "metadata": {
        "id": "chtJphrVJUqO"
      },
      "execution_count": 19,
      "outputs": []
    },
    {
      "cell_type": "markdown",
      "source": [
        "Sentenca anotada com as classes de palavras no Mac-Morpho"
      ],
      "metadata": {
        "id": "VBdVrExgMFJo"
      }
    },
    {
      "cell_type": "code",
      "source": [
        "len(corpus)"
      ],
      "metadata": {
        "colab": {
          "base_uri": "https://localhost:8080/"
        },
        "id": "Y0E31JP6MLio",
        "outputId": "b37bae40-acf3-4e35-a4b3-4aea17be5def"
      },
      "execution_count": 20,
      "outputs": [
        {
          "output_type": "execute_result",
          "data": {
            "text/plain": [
              "367900"
            ]
          },
          "metadata": {},
          "execution_count": 20
        }
      ]
    },
    {
      "cell_type": "code",
      "source": [
        "corpus[0]"
      ],
      "metadata": {
        "colab": {
          "base_uri": "https://localhost:8080/"
        },
        "id": "w9dSi0aTMfJn",
        "outputId": "32a4f40d-7cfd-49a6-83ab-4e3c02a64b4c"
      },
      "execution_count": 21,
      "outputs": [
        {
          "output_type": "execute_result",
          "data": {
            "text/plain": [
              "[('O', 'DET'),\n",
              " ('objetivo', 'NOUN'),\n",
              " ('de', 'ADP'),\n",
              " ('os', 'DET'),\n",
              " ('principais', 'ADJ'),\n",
              " ('hotéis', 'NOUN'),\n",
              " ('de', 'ADP'),\n",
              " ('a', 'DET'),\n",
              " ('cidade', 'NOUN'),\n",
              " ('é', 'AUX'),\n",
              " ('que', 'CCONJ'),\n",
              " ('o', 'DET'),\n",
              " ('hóspede', 'NOUN'),\n",
              " ('jamais', 'ADV'),\n",
              " ('tenha', 'AUX'),\n",
              " ('que', 'CCONJ'),\n",
              " ('sair', 'VERB'),\n",
              " ('dali', 'ADV'),\n",
              " ('e', 'CCONJ'),\n",
              " ('gaste', 'VERB'),\n",
              " ('a', 'ADP'),\n",
              " ('cada', 'DET'),\n",
              " ('minuto', 'NOUN'),\n",
              " ('de', 'ADP'),\n",
              " ('a', 'DET'),\n",
              " ('estadia', 'NOUN'),\n",
              " ('.', 'PUNCT')]"
            ]
          },
          "metadata": {},
          "execution_count": 21
        }
      ]
    },
    {
      "cell_type": "code",
      "source": [],
      "metadata": {
        "id": "7_InivzCM4go"
      },
      "execution_count": null,
      "outputs": []
    },
    {
      "cell_type": "markdown",
      "source": [
        "Contando cada marcador no corpus"
      ],
      "metadata": {
        "id": "RuXUiMbCM142"
      }
    },
    {
      "cell_type": "code",
      "source": [
        "from collections import Counter\n",
        "\n",
        "tagset = []\n",
        "for snt in corpus:\n",
        "  for palavra in snt:\n",
        "    tagset.append(palavra[1])\n",
        "\n",
        "Counter(tagset)"
      ],
      "metadata": {
        "colab": {
          "base_uri": "https://localhost:8080/"
        },
        "id": "3nMqUtJKM9jt",
        "outputId": "18562049-d95c-4ede-cc2e-f5ce4056275c"
      },
      "execution_count": 22,
      "outputs": [
        {
          "output_type": "execute_result",
          "data": {
            "text/plain": [
              "Counter({'DET': 1891119,\n",
              "         'NOUN': 2206437,\n",
              "         'ADP': 2084110,\n",
              "         'ADJ': 582072,\n",
              "         'AUX': 240795,\n",
              "         'CCONJ': 405391,\n",
              "         'ADV': 350058,\n",
              "         'VERB': 1017428,\n",
              "         'PUNCT': 1617659,\n",
              "         'PROPN': 1375042,\n",
              "         'NUM': 332684,\n",
              "         'PRON': 291703,\n",
              "         'SCONJ': 52872,\n",
              "         'SYM': 43102,\n",
              "         'PART': 20942,\n",
              "         'X': 14166})"
            ]
          },
          "metadata": {},
          "execution_count": 22
        }
      ]
    }
  ]
}